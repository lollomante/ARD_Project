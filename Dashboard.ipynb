{
 "cells": [
  {
   "cell_type": "markdown",
   "metadata": {},
   "source": [
    "# USA Car Accidents"
   ]
  },
  {
   "cell_type": "markdown",
   "metadata": {},
   "source": [
    "## imports:"
   ]
  },
  {
   "cell_type": "markdown",
   "metadata": {},
   "source": [
    "### External dependencies"
   ]
  },
  {
   "cell_type": "code",
   "execution_count": 1,
   "metadata": {},
   "outputs": [],
   "source": [
    "import pandas as pd\n",
    "import numpy as np\n",
    "import plotly.express as px\n",
    "import plotly.graph_objects as go\n",
    "import dash_bootstrap_components as dbc\n",
    "from dash import Dash, Input, Output, html, dcc\n",
    "import plotly.express as px\n",
    "import os\n",
    "import dash"
   ]
  },
  {
   "cell_type": "markdown",
   "metadata": {},
   "source": [
    "### Internal dependencies"
   ]
  },
  {
   "cell_type": "code",
   "execution_count": 2,
   "metadata": {},
   "outputs": [],
   "source": [
    "# internal dependencies\n",
    "from constants import *\n",
    "from graphs import *\n",
    "from utility_functions import *"
   ]
  },
  {
   "cell_type": "markdown",
   "metadata": {},
   "source": [
    "## Configuration parameters:"
   ]
  },
  {
   "cell_type": "code",
   "execution_count": 3,
   "metadata": {
    "tags": [
     "parameters"
    ]
   },
   "outputs": [],
   "source": [
    "# population dataset path\n",
    "Path_to_population_dataset = 'Dataset\\\\US_Population.csv'\n",
    "\n",
    "# accident dataset path\n",
    "Path_to_accident_dataset = 'Dataset\\\\US_Accidents_Sampled.csv'\n",
    "\n",
    "# sampling factor (>=1)\n",
    "Sampling_Factor = 100"
   ]
  },
  {
   "cell_type": "markdown",
   "metadata": {},
   "source": [
    "## Load and edit datasets"
   ]
  },
  {
   "cell_type": "markdown",
   "metadata": {},
   "source": [
    "### Population Dataset"
   ]
  },
  {
   "cell_type": "code",
   "execution_count": 4,
   "metadata": {},
   "outputs": [
    {
     "data": {
      "text/html": [
       "<div>\n",
       "<style scoped>\n",
       "    .dataframe tbody tr th:only-of-type {\n",
       "        vertical-align: middle;\n",
       "    }\n",
       "\n",
       "    .dataframe tbody tr th {\n",
       "        vertical-align: top;\n",
       "    }\n",
       "\n",
       "    .dataframe thead th {\n",
       "        text-align: right;\n",
       "    }\n",
       "</style>\n",
       "<table border=\"1\" class=\"dataframe\">\n",
       "  <thead>\n",
       "    <tr style=\"text-align: right;\">\n",
       "      <th></th>\n",
       "      <th>Year</th>\n",
       "      <th>AL</th>\n",
       "      <th>AK</th>\n",
       "      <th>AZ</th>\n",
       "      <th>AR</th>\n",
       "      <th>CA</th>\n",
       "      <th>CO</th>\n",
       "      <th>CT</th>\n",
       "      <th>DE</th>\n",
       "      <th>FL</th>\n",
       "      <th>...</th>\n",
       "      <th>SD</th>\n",
       "      <th>TN</th>\n",
       "      <th>TX</th>\n",
       "      <th>UT</th>\n",
       "      <th>VT</th>\n",
       "      <th>VA</th>\n",
       "      <th>WA</th>\n",
       "      <th>WV</th>\n",
       "      <th>WI</th>\n",
       "      <th>WY</th>\n",
       "    </tr>\n",
       "  </thead>\n",
       "  <tbody>\n",
       "    <tr>\n",
       "      <th>0</th>\n",
       "      <td>2016</td>\n",
       "      <td>4860545</td>\n",
       "      <td>741522</td>\n",
       "      <td>6941072</td>\n",
       "      <td>2989918</td>\n",
       "      <td>39250017</td>\n",
       "      <td>5540545</td>\n",
       "      <td>3576452</td>\n",
       "      <td>952065</td>\n",
       "      <td>20612439</td>\n",
       "      <td>...</td>\n",
       "      <td>865454</td>\n",
       "      <td>6651194</td>\n",
       "      <td>27862596</td>\n",
       "      <td>3051217</td>\n",
       "      <td>624594</td>\n",
       "      <td>8411808</td>\n",
       "      <td>7288000</td>\n",
       "      <td>1831102</td>\n",
       "      <td>5778708</td>\n",
       "      <td>585501</td>\n",
       "    </tr>\n",
       "    <tr>\n",
       "      <th>1</th>\n",
       "      <td>2017</td>\n",
       "      <td>4874747</td>\n",
       "      <td>739786</td>\n",
       "      <td>7044008</td>\n",
       "      <td>3001345</td>\n",
       "      <td>39536653</td>\n",
       "      <td>5607154</td>\n",
       "      <td>3573880</td>\n",
       "      <td>961939</td>\n",
       "      <td>20928863</td>\n",
       "      <td>...</td>\n",
       "      <td>869666</td>\n",
       "      <td>6715984</td>\n",
       "      <td>28304596</td>\n",
       "      <td>3101833</td>\n",
       "      <td>623657</td>\n",
       "      <td>8470020</td>\n",
       "      <td>7423362</td>\n",
       "      <td>1818157</td>\n",
       "      <td>5790186</td>\n",
       "      <td>584910</td>\n",
       "    </tr>\n",
       "    <tr>\n",
       "      <th>2</th>\n",
       "      <td>2018</td>\n",
       "      <td>4887681</td>\n",
       "      <td>735139</td>\n",
       "      <td>7158024</td>\n",
       "      <td>3009733</td>\n",
       "      <td>39776830</td>\n",
       "      <td>5691287</td>\n",
       "      <td>3573297</td>\n",
       "      <td>971180</td>\n",
       "      <td>21244317</td>\n",
       "      <td>...</td>\n",
       "      <td>878698</td>\n",
       "      <td>6771631</td>\n",
       "      <td>28704330</td>\n",
       "      <td>3153550</td>\n",
       "      <td>624344</td>\n",
       "      <td>8517685</td>\n",
       "      <td>7535591</td>\n",
       "      <td>1804291</td>\n",
       "      <td>5807406</td>\n",
       "      <td>578668</td>\n",
       "    </tr>\n",
       "    <tr>\n",
       "      <th>3</th>\n",
       "      <td>2019</td>\n",
       "      <td>4903185</td>\n",
       "      <td>731158</td>\n",
       "      <td>7278717</td>\n",
       "      <td>3017804</td>\n",
       "      <td>39576757</td>\n",
       "      <td>5758736</td>\n",
       "      <td>3571520</td>\n",
       "      <td>981822</td>\n",
       "      <td>21538187</td>\n",
       "      <td>...</td>\n",
       "      <td>882235</td>\n",
       "      <td>6829174</td>\n",
       "      <td>29145505</td>\n",
       "      <td>3205958</td>\n",
       "      <td>624358</td>\n",
       "      <td>8565256</td>\n",
       "      <td>7614893</td>\n",
       "      <td>1792147</td>\n",
       "      <td>5822434</td>\n",
       "      <td>577601</td>\n",
       "    </tr>\n",
       "    <tr>\n",
       "      <th>4</th>\n",
       "      <td>2020</td>\n",
       "      <td>4921532</td>\n",
       "      <td>727890</td>\n",
       "      <td>7421401</td>\n",
       "      <td>3029887</td>\n",
       "      <td>39368078</td>\n",
       "      <td>5845526</td>\n",
       "      <td>3565287</td>\n",
       "      <td>990837</td>\n",
       "      <td>21899341</td>\n",
       "      <td>...</td>\n",
       "      <td>886667</td>\n",
       "      <td>6886834</td>\n",
       "      <td>29618533</td>\n",
       "      <td>3251617</td>\n",
       "      <td>623989</td>\n",
       "      <td>8616207</td>\n",
       "      <td>7693612</td>\n",
       "      <td>1778070</td>\n",
       "      <td>5837466</td>\n",
       "      <td>567025</td>\n",
       "    </tr>\n",
       "  </tbody>\n",
       "</table>\n",
       "<p>5 rows × 51 columns</p>\n",
       "</div>"
      ],
      "text/plain": [
       "   Year       AL      AK       AZ       AR        CA       CO       CT  \\\n",
       "0  2016  4860545  741522  6941072  2989918  39250017  5540545  3576452   \n",
       "1  2017  4874747  739786  7044008  3001345  39536653  5607154  3573880   \n",
       "2  2018  4887681  735139  7158024  3009733  39776830  5691287  3573297   \n",
       "3  2019  4903185  731158  7278717  3017804  39576757  5758736  3571520   \n",
       "4  2020  4921532  727890  7421401  3029887  39368078  5845526  3565287   \n",
       "\n",
       "       DE        FL  ...      SD       TN        TX       UT      VT       VA  \\\n",
       "0  952065  20612439  ...  865454  6651194  27862596  3051217  624594  8411808   \n",
       "1  961939  20928863  ...  869666  6715984  28304596  3101833  623657  8470020   \n",
       "2  971180  21244317  ...  878698  6771631  28704330  3153550  624344  8517685   \n",
       "3  981822  21538187  ...  882235  6829174  29145505  3205958  624358  8565256   \n",
       "4  990837  21899341  ...  886667  6886834  29618533  3251617  623989  8616207   \n",
       "\n",
       "        WA       WV       WI      WY  \n",
       "0  7288000  1831102  5778708  585501  \n",
       "1  7423362  1818157  5790186  584910  \n",
       "2  7535591  1804291  5807406  578668  \n",
       "3  7614893  1792147  5822434  577601  \n",
       "4  7693612  1778070  5837466  567025  \n",
       "\n",
       "[5 rows x 51 columns]"
      ]
     },
     "execution_count": 4,
     "metadata": {},
     "output_type": "execute_result"
    }
   ],
   "source": [
    "# load dataset for US population\n",
    "df_pop = pd.read_csv(Path_to_population_dataset)\n",
    "df_pop.dropna()\n",
    "df_pop.head()"
   ]
  },
  {
   "cell_type": "markdown",
   "metadata": {},
   "source": [
    "### Accident Dataset"
   ]
  },
  {
   "cell_type": "code",
   "execution_count": 5,
   "metadata": {},
   "outputs": [
    {
     "data": {
      "text/html": [
       "<div>\n",
       "<style scoped>\n",
       "    .dataframe tbody tr th:only-of-type {\n",
       "        vertical-align: middle;\n",
       "    }\n",
       "\n",
       "    .dataframe tbody tr th {\n",
       "        vertical-align: top;\n",
       "    }\n",
       "\n",
       "    .dataframe thead th {\n",
       "        text-align: right;\n",
       "    }\n",
       "</style>\n",
       "<table border=\"1\" class=\"dataframe\">\n",
       "  <thead>\n",
       "    <tr style=\"text-align: right;\">\n",
       "      <th></th>\n",
       "      <th>Unnamed: 0</th>\n",
       "      <th>ID</th>\n",
       "      <th>Severity</th>\n",
       "      <th>Start_Time</th>\n",
       "      <th>End_Time</th>\n",
       "      <th>Start_Lat</th>\n",
       "      <th>Start_Lng</th>\n",
       "      <th>Distance(mi)</th>\n",
       "      <th>Street</th>\n",
       "      <th>City</th>\n",
       "      <th>...</th>\n",
       "      <th>Station</th>\n",
       "      <th>Stop</th>\n",
       "      <th>Traffic_Calming</th>\n",
       "      <th>Traffic_Signal</th>\n",
       "      <th>Turning_Loop</th>\n",
       "      <th>Sunrise_Sunset</th>\n",
       "      <th>Civil_Twilight</th>\n",
       "      <th>Nautical_Twilight</th>\n",
       "      <th>Astronomical_Twilight</th>\n",
       "      <th>Year</th>\n",
       "    </tr>\n",
       "  </thead>\n",
       "  <tbody>\n",
       "    <tr>\n",
       "      <th>1</th>\n",
       "      <td>4123847</td>\n",
       "      <td>A-4154878</td>\n",
       "      <td>2</td>\n",
       "      <td>2022-11-22 16:09:03</td>\n",
       "      <td>2022-11-22 17:26:55</td>\n",
       "      <td>36.126120</td>\n",
       "      <td>-86.904076</td>\n",
       "      <td>0.99</td>\n",
       "      <td>I-40 W</td>\n",
       "      <td>Nashville</td>\n",
       "      <td>...</td>\n",
       "      <td>False</td>\n",
       "      <td>False</td>\n",
       "      <td>False</td>\n",
       "      <td>False</td>\n",
       "      <td>False</td>\n",
       "      <td>Day</td>\n",
       "      <td>Day</td>\n",
       "      <td>Day</td>\n",
       "      <td>Day</td>\n",
       "      <td>2022</td>\n",
       "    </tr>\n",
       "    <tr>\n",
       "      <th>2</th>\n",
       "      <td>7006131</td>\n",
       "      <td>A-7055452</td>\n",
       "      <td>2</td>\n",
       "      <td>2020-06-24 20:28:00</td>\n",
       "      <td>2020-06-24 21:02:05</td>\n",
       "      <td>45.023940</td>\n",
       "      <td>-93.284640</td>\n",
       "      <td>0.00</td>\n",
       "      <td>I-94 E</td>\n",
       "      <td>Minneapolis</td>\n",
       "      <td>...</td>\n",
       "      <td>False</td>\n",
       "      <td>False</td>\n",
       "      <td>False</td>\n",
       "      <td>False</td>\n",
       "      <td>False</td>\n",
       "      <td>Day</td>\n",
       "      <td>Day</td>\n",
       "      <td>Day</td>\n",
       "      <td>Day</td>\n",
       "      <td>2020</td>\n",
       "    </tr>\n",
       "    <tr>\n",
       "      <th>3</th>\n",
       "      <td>1191012</td>\n",
       "      <td>A-1200791</td>\n",
       "      <td>2</td>\n",
       "      <td>2021-01-08 18:01:03</td>\n",
       "      <td>2021-01-08 18:47:15</td>\n",
       "      <td>30.471621</td>\n",
       "      <td>-91.089096</td>\n",
       "      <td>0.00</td>\n",
       "      <td>S Choctaw Dr</td>\n",
       "      <td>Baton Rouge</td>\n",
       "      <td>...</td>\n",
       "      <td>False</td>\n",
       "      <td>False</td>\n",
       "      <td>False</td>\n",
       "      <td>True</td>\n",
       "      <td>False</td>\n",
       "      <td>Night</td>\n",
       "      <td>Night</td>\n",
       "      <td>Day</td>\n",
       "      <td>Day</td>\n",
       "      <td>2021</td>\n",
       "    </tr>\n",
       "    <tr>\n",
       "      <th>7</th>\n",
       "      <td>801563</td>\n",
       "      <td>A-811271</td>\n",
       "      <td>3</td>\n",
       "      <td>2021-11-19 18:47:57</td>\n",
       "      <td>2021-11-19 19:17:25</td>\n",
       "      <td>40.009960</td>\n",
       "      <td>-75.064369</td>\n",
       "      <td>0.00</td>\n",
       "      <td>Fraley St</td>\n",
       "      <td>Philadelphia</td>\n",
       "      <td>...</td>\n",
       "      <td>False</td>\n",
       "      <td>False</td>\n",
       "      <td>False</td>\n",
       "      <td>False</td>\n",
       "      <td>False</td>\n",
       "      <td>Night</td>\n",
       "      <td>Night</td>\n",
       "      <td>Night</td>\n",
       "      <td>Night</td>\n",
       "      <td>2021</td>\n",
       "    </tr>\n",
       "    <tr>\n",
       "      <th>8</th>\n",
       "      <td>1398450</td>\n",
       "      <td>A-1408279</td>\n",
       "      <td>3</td>\n",
       "      <td>2020-08-01 13:00:16</td>\n",
       "      <td>2020-08-01 14:00:59</td>\n",
       "      <td>29.784163</td>\n",
       "      <td>-95.531845</td>\n",
       "      <td>0.00</td>\n",
       "      <td>Bunker Hill Rd</td>\n",
       "      <td>Houston</td>\n",
       "      <td>...</td>\n",
       "      <td>False</td>\n",
       "      <td>False</td>\n",
       "      <td>False</td>\n",
       "      <td>False</td>\n",
       "      <td>False</td>\n",
       "      <td>Day</td>\n",
       "      <td>Day</td>\n",
       "      <td>Day</td>\n",
       "      <td>Day</td>\n",
       "      <td>2020</td>\n",
       "    </tr>\n",
       "  </tbody>\n",
       "</table>\n",
       "<p>5 rows × 43 columns</p>\n",
       "</div>"
      ],
      "text/plain": [
       "   Unnamed: 0         ID  Severity          Start_Time            End_Time  \\\n",
       "1     4123847  A-4154878         2 2022-11-22 16:09:03 2022-11-22 17:26:55   \n",
       "2     7006131  A-7055452         2 2020-06-24 20:28:00 2020-06-24 21:02:05   \n",
       "3     1191012  A-1200791         2 2021-01-08 18:01:03 2021-01-08 18:47:15   \n",
       "7      801563   A-811271         3 2021-11-19 18:47:57 2021-11-19 19:17:25   \n",
       "8     1398450  A-1408279         3 2020-08-01 13:00:16 2020-08-01 14:00:59   \n",
       "\n",
       "   Start_Lat  Start_Lng  Distance(mi)          Street          City  ...  \\\n",
       "1  36.126120 -86.904076          0.99          I-40 W     Nashville  ...   \n",
       "2  45.023940 -93.284640          0.00          I-94 E   Minneapolis  ...   \n",
       "3  30.471621 -91.089096          0.00    S Choctaw Dr   Baton Rouge  ...   \n",
       "7  40.009960 -75.064369          0.00       Fraley St  Philadelphia  ...   \n",
       "8  29.784163 -95.531845          0.00  Bunker Hill Rd       Houston  ...   \n",
       "\n",
       "  Station   Stop Traffic_Calming Traffic_Signal Turning_Loop Sunrise_Sunset  \\\n",
       "1   False  False           False          False        False            Day   \n",
       "2   False  False           False          False        False            Day   \n",
       "3   False  False           False           True        False          Night   \n",
       "7   False  False           False          False        False          Night   \n",
       "8   False  False           False          False        False            Day   \n",
       "\n",
       "   Civil_Twilight  Nautical_Twilight  Astronomical_Twilight  Year  \n",
       "1             Day                Day                    Day  2022  \n",
       "2             Day                Day                    Day  2020  \n",
       "3           Night                Day                    Day  2021  \n",
       "7           Night              Night                  Night  2021  \n",
       "8             Day                Day                    Day  2020  \n",
       "\n",
       "[5 rows x 43 columns]"
      ]
     },
     "execution_count": 5,
     "metadata": {},
     "output_type": "execute_result"
    }
   ],
   "source": [
    "\n",
    "# import datset\n",
    "df_acc = pd.read_csv(Path_to_accident_dataset)\n",
    "\n",
    "# remove unecessary columns\n",
    "df_acc.drop(['Source', 'End_Lat', 'End_Lng', 'Description', 'Airport_Code'], axis=1, inplace=True)\n",
    "\n",
    "# remove null values\n",
    "df_acc.dropna(inplace=True)\n",
    "\n",
    "# Convert 'Start_Time' and 'End_Time to datetime\n",
    "df_acc['Start_Time'] = pd.to_datetime(df_acc['Start_Time'],format='ISO8601')\n",
    "df_acc['End_Time'] = pd.to_datetime(df_acc['End_Time'],format='ISO8601')\n",
    "\n",
    "df_acc['Year'] = df_acc['Start_Time'].dt.year\n",
    "\n",
    "# convert temperature from fareneight to celsius\n",
    "df_acc['Temperature(F)'] = (df_acc['Temperature(F)'] - 32) * 5.0/9.0\n",
    "df_acc.rename(columns={'Temperature(F)': 'Temperature(C)'}, inplace=True)\n",
    "\n",
    "# remove year 2023 and 2016 because they are incomplete\n",
    "df_acc = df_acc[(df_acc['Start_Time'].dt.year != 2023)]\n",
    "df_acc = df_acc[(df_acc['Start_Time'].dt.year != 2016)]\n",
    "\n",
    "df_acc.head()"
   ]
  },
  {
   "cell_type": "code",
   "execution_count": 6,
   "metadata": {},
   "outputs": [
    {
     "name": "stdout",
     "output_type": "stream",
     "text": [
      "<class 'pandas.core.frame.DataFrame'>\n",
      "Index: 44918 entries, 1 to 69999\n",
      "Data columns (total 43 columns):\n",
      " #   Column                 Non-Null Count  Dtype         \n",
      "---  ------                 --------------  -----         \n",
      " 0   Unnamed: 0             44918 non-null  int64         \n",
      " 1   ID                     44918 non-null  object        \n",
      " 2   Severity               44918 non-null  int64         \n",
      " 3   Start_Time             44918 non-null  datetime64[ns]\n",
      " 4   End_Time               44918 non-null  datetime64[ns]\n",
      " 5   Start_Lat              44918 non-null  float64       \n",
      " 6   Start_Lng              44918 non-null  float64       \n",
      " 7   Distance(mi)           44918 non-null  float64       \n",
      " 8   Street                 44918 non-null  object        \n",
      " 9   City                   44918 non-null  object        \n",
      " 10  County                 44918 non-null  object        \n",
      " 11  State                  44918 non-null  object        \n",
      " 12  Zipcode                44918 non-null  object        \n",
      " 13  Country                44918 non-null  object        \n",
      " 14  Timezone               44918 non-null  object        \n",
      " 15  Weather_Timestamp      44918 non-null  object        \n",
      " 16  Temperature(C)         44918 non-null  float64       \n",
      " 17  Wind_Chill(F)          44918 non-null  float64       \n",
      " 18  Humidity(%)            44918 non-null  float64       \n",
      " 19  Pressure(in)           44918 non-null  float64       \n",
      " 20  Visibility(mi)         44918 non-null  float64       \n",
      " 21  Wind_Direction         44918 non-null  object        \n",
      " 22  Wind_Speed(mph)        44918 non-null  float64       \n",
      " 23  Precipitation(in)      44918 non-null  float64       \n",
      " 24  Weather_Condition      44918 non-null  object        \n",
      " 25  Amenity                44918 non-null  bool          \n",
      " 26  Bump                   44918 non-null  bool          \n",
      " 27  Crossing               44918 non-null  bool          \n",
      " 28  Give_Way               44918 non-null  bool          \n",
      " 29  Junction               44918 non-null  bool          \n",
      " 30  No_Exit                44918 non-null  bool          \n",
      " 31  Railway                44918 non-null  bool          \n",
      " 32  Roundabout             44918 non-null  bool          \n",
      " 33  Station                44918 non-null  bool          \n",
      " 34  Stop                   44918 non-null  bool          \n",
      " 35  Traffic_Calming        44918 non-null  bool          \n",
      " 36  Traffic_Signal         44918 non-null  bool          \n",
      " 37  Turning_Loop           44918 non-null  bool          \n",
      " 38  Sunrise_Sunset         44918 non-null  object        \n",
      " 39  Civil_Twilight         44918 non-null  object        \n",
      " 40  Nautical_Twilight      44918 non-null  object        \n",
      " 41  Astronomical_Twilight  44918 non-null  object        \n",
      " 42  Year                   44918 non-null  int32         \n",
      "dtypes: bool(13), datetime64[ns](2), float64(10), int32(1), int64(2), object(15)\n",
      "memory usage: 11.0+ MB\n"
     ]
    }
   ],
   "source": [
    "df_acc.info()"
   ]
  },
  {
   "cell_type": "markdown",
   "metadata": {},
   "source": [
    "## Dashboard"
   ]
  },
  {
   "cell_type": "markdown",
   "metadata": {},
   "source": [
    "### input components:"
   ]
  },
  {
   "cell_type": "markdown",
   "metadata": {},
   "source": [
    "#### first input group:"
   ]
  },
  {
   "cell_type": "code",
   "execution_count": 7,
   "metadata": {},
   "outputs": [],
   "source": [
    "input1 = dbc.Col(\n",
    "    dbc.Row(\n",
    "        [\n",
    "        dbc.Col([\n",
    "            html.P(\"Time Interval:\"),\n",
    "            dbc.Select(\n",
    "                options=[\n",
    "                        {\"label\":\"Monthly\", \"value\":\"Monthly\"}, \n",
    "                        {\"label\":\"Yearly\", \"value\":\"Yearly\"}, \n",
    "                        {\"label\":\"Daily\", \"value\":\"Daily\"},\n",
    "                        {\"label\":\"Hourly\", \"value\":\"Hourly\"}  \n",
    "                ],\n",
    "                value='Monthly',\n",
    "                id=\"Time-Interval-Select\"\n",
    "            )\n",
    "        ], width = 6\n",
    "        ),\n",
    "        dbc.Col([\n",
    "                html.P(\"View Mode:\"),\n",
    "                dbc.RadioItems(\n",
    "                    options=[\n",
    "                            {\"label\":\"Grouped\", \"value\":\"Grouped\"}, \n",
    "                            {\"label\":\"Separated\", \"value\":\"Separated\"}\n",
    "                    ],\n",
    "                    value='Grouped',\n",
    "                    id='ViewMode-Select'\n",
    "                )\n",
    "            ], width = 6)\n",
    "        ]\n",
    "    )\n",
    ")"
   ]
  },
  {
   "cell_type": "markdown",
   "metadata": {},
   "source": [
    "#### second input group:"
   ]
  },
  {
   "cell_type": "code",
   "execution_count": 8,
   "metadata": {},
   "outputs": [],
   "source": [
    "input2 = dbc.Col(\n",
    "    [\n",
    "        html.P(\"Period:\"),\n",
    "        dbc.Select(\n",
    "            options=[\n",
    "                    {\"label\":\"All\", \"value\":\"all\"}, \n",
    "                    {\"label\":\"2017\", \"value\":\"2017\"},\n",
    "                    {\"label\":\"2018\", \"value\":\"2018\"},\n",
    "                    {\"label\":\"2019\", \"value\":\"2019\"},\n",
    "                    {\"label\":\"2020\", \"value\":\"2020\"},\n",
    "                    {\"label\":\"2021\", \"value\":\"2021\"},\n",
    "                    {\"label\":\"2022\", \"value\":\"2022\"}        \n",
    "            ],\n",
    "            value='all',\n",
    "            id=\"Time-Interval-Select-pie\"\n",
    "        ),\n",
    "        \n",
    "    ]\n",
    ")"
   ]
  },
  {
   "cell_type": "markdown",
   "metadata": {},
   "source": [
    "#### third input group:"
   ]
  },
  {
   "cell_type": "code",
   "execution_count": 9,
   "metadata": {},
   "outputs": [],
   "source": [
    "input3 = dbc.Col(\n",
    "    dbc.Row(\n",
    "        [\n",
    "        dbc.Col([\n",
    "            html.P(\"Order:\"),\n",
    "            dbc.Select(\n",
    "                options=[\n",
    "                    {\"label\":\"None\", \"value\":\"None\"}, \n",
    "                    {\"label\":\"Worst to best\", \"value\":\"WorstToBest\"},\n",
    "                    {\"label\":\"Best to worst\", \"value\":\"BestToWorst\"},      \n",
    "                ],\n",
    "                value='None',\n",
    "                id=\"Accident_per_populetion_order_select\"\n",
    "            )\n",
    "        ]),\n",
    "        dbc.Col(\n",
    "            [\n",
    "            html.P(\"Show:\"),\n",
    "            dbc.RadioItems(\n",
    "                options=[\n",
    "                        {\"label\":\"All\", \"value\":\"all\"}, \n",
    "                        {\"label\":\"Top 10\", \"value\":\"Top 10\"}\n",
    "                ],\n",
    "                value='Top 10',\n",
    "                id='Show-Select'\n",
    "            )\n",
    "            ]\n",
    "        )\n",
    "        ]\n",
    "    )\n",
    ")"
   ]
  },
  {
   "cell_type": "markdown",
   "metadata": {},
   "source": [
    "### Graphs:"
   ]
  },
  {
   "cell_type": "markdown",
   "metadata": {},
   "source": [
    "graph functions are defined in ```graphs.py```"
   ]
  },
  {
   "cell_type": "markdown",
   "metadata": {},
   "source": [
    "#### Time Distribution graph:"
   ]
  },
  {
   "cell_type": "code",
   "execution_count": 10,
   "metadata": {},
   "outputs": [],
   "source": [
    "TimeDistributionBAR = dbc.Col(\n",
    "    [dcc.Graph(id='Temporal-Distribution-acc-graph')]\n",
    ")"
   ]
  },
  {
   "cell_type": "markdown",
   "metadata": {},
   "source": [
    "#### Severity Distribution graph:"
   ]
  },
  {
   "cell_type": "code",
   "execution_count": 11,
   "metadata": {},
   "outputs": [],
   "source": [
    "SeverityDistributionPIE = dbc.Col(\n",
    "    [dcc.Graph(id='Severity-distribution-pie')]\n",
    ")"
   ]
  },
  {
   "cell_type": "markdown",
   "metadata": {},
   "source": [
    "#### Worst Best graph:"
   ]
  },
  {
   "cell_type": "code",
   "execution_count": 12,
   "metadata": {},
   "outputs": [],
   "source": [
    "WorstBestBAR = dbc.Col(\n",
    "    [dcc.Graph(id='Accident_per_populetion_barchart')]\n",
    ")"
   ]
  },
  {
   "cell_type": "markdown",
   "metadata": {},
   "source": [
    "#### Temperature graph:"
   ]
  },
  {
   "cell_type": "code",
   "execution_count": 13,
   "metadata": {},
   "outputs": [],
   "source": [
    "TemperatureDistributionPIE = dbc.Col(\n",
    "    [dcc.Graph(id='Temperature_PIE')],\n",
    "    width=6\n",
    ")"
   ]
  },
  {
   "cell_type": "markdown",
   "metadata": {},
   "source": [
    "#### Location graph:"
   ]
  },
  {
   "cell_type": "code",
   "execution_count": 14,
   "metadata": {},
   "outputs": [],
   "source": [
    "LocationCoordsSCATTER = dbc.Col(\n",
    "    [dcc.Graph(id='Location_Graph_Scatter')],\n",
    "    width=6\n",
    ")"
   ]
  },
  {
   "cell_type": "markdown",
   "metadata": {},
   "source": [
    "### Dashboard Layout"
   ]
  },
  {
   "cell_type": "code",
   "execution_count": 15,
   "metadata": {},
   "outputs": [
    {
     "data": {
      "text/html": [
       "\n",
       "        <iframe\n",
       "            width=\"100%\"\n",
       "            height=\"650\"\n",
       "            src=\"http://127.0.0.1:8050/\"\n",
       "            frameborder=\"0\"\n",
       "            allowfullscreen\n",
       "            \n",
       "        ></iframe>\n",
       "        "
      ],
      "text/plain": [
       "<IPython.lib.display.IFrame at 0x1de5be19460>"
      ]
     },
     "metadata": {},
     "output_type": "display_data"
    }
   ],
   "source": [
    "app = dash.Dash(__name__, external_stylesheets=[dbc.themes.BOOTSTRAP])\n",
    "\n",
    "# title\n",
    "title = dbc.Row(\n",
    "    dbc.Col(html.H1(\"USA Accidents\"), width=\"auto\"),\n",
    "    justify=\"center\",\n",
    "    className=\"mb-2\",\n",
    ")\n",
    "\n",
    "FirstInputRow = dbc.Row(\n",
    "    [input1, input2, input3]\n",
    ")\n",
    "\n",
    "FirstRow = dbc.Row(\n",
    "    [TimeDistributionBAR, SeverityDistributionPIE],\n",
    "    className=\"mb-2\",\n",
    ")\n",
    "\n",
    "\n",
    "SecondRow = dbc.Row(\n",
    "    [TemperatureDistributionPIE, LocationCoordsSCATTER]\n",
    ")\n",
    "\n",
    "lcol =  dbc.Col(\n",
    "         [FirstRow, SecondRow],\n",
    "         width=8\n",
    ")\n",
    "\n",
    "# right column\n",
    "rcol = dbc.Col(\n",
    "        [dbc.Row(WorstBestBAR)],\n",
    "         width=4\n",
    ")\n",
    "\n",
    "# app layout\n",
    "app.layout=dbc.Container([\n",
    "    dbc.Col([\n",
    "        title,\n",
    "        FirstInputRow,\n",
    "        dbc.Row([lcol, rcol])\n",
    "        ]\n",
    "    )\n",
    "],\n",
    "style={'width' : '100%', 'backgroundColor' : BACKGROUND_COLOR},\n",
    "fluid = True,\n",
    ")\n",
    "\n",
    "app.run(debug=True)"
   ]
  },
  {
   "cell_type": "markdown",
   "metadata": {},
   "source": [
    "### Callbacks:"
   ]
  },
  {
   "cell_type": "markdown",
   "metadata": {},
   "source": [
    "#### Time Distribution callback:"
   ]
  },
  {
   "cell_type": "code",
   "execution_count": null,
   "metadata": {},
   "outputs": [],
   "source": [
    "@app.callback(Output(\"Temporal-Distribution-acc-graph\", \"figure\"),[Input(\"Time-Interval-Select\", \"value\"), Input(\"ViewMode-Select\", \"value\"),Input(\"Time-Interval-Select-pie\", \"value\")])\n",
    "def TDABarchart(time_interval, ViewMode, year):\n",
    "    if(ViewMode == 'Grouped'):\n",
    "        fig = SingleBarChart(df_acc, time_interval, Sampling_Factor, year)\n",
    "        return fig\n",
    "    else:\n",
    "        if(ViewMode == 'Separated'):\n",
    "            fig = MultiBarChart(df_acc, time_interval, Sampling_Factor, year)\n",
    "            return fig"
   ]
  },
  {
   "cell_type": "markdown",
   "metadata": {},
   "source": [
    "#### Severity Distribution callback:"
   ]
  },
  {
   "cell_type": "code",
   "execution_count": 16,
   "metadata": {},
   "outputs": [],
   "source": [
    "@app.callback(Output(\"Severity-distribution-pie\", \"figure\"),[Input(\"Time-Interval-Select-pie\", \"value\")])\n",
    "def SDPiechart(time_interval):\n",
    "    fig = PieChart(df_acc, time_interval)\n",
    "    return fig"
   ]
  },
  {
   "cell_type": "markdown",
   "metadata": {},
   "source": [
    "#### Worst Best callback:"
   ]
  },
  {
   "cell_type": "code",
   "execution_count": 17,
   "metadata": {},
   "outputs": [],
   "source": [
    "@app.callback(Output(\"Accident_per_populetion_barchart\", \"figure\"),[Input(\"Time-Interval-Select-pie\", \"value\"),Input(\"Accident_per_populetion_order_select\", \"value\"),Input(\"Show-Select\", \"value\")])\n",
    "def WorstBestPieChart(time_interval, order_by, show):\n",
    "    fig = BestWorstAcc(df_acc, df_pop, time_interval, order_by, (show == 'all'), Sampling_Factor)\n",
    "    return fig"
   ]
  },
  {
   "cell_type": "markdown",
   "metadata": {},
   "source": [
    "#### Temperature graph:"
   ]
  },
  {
   "cell_type": "code",
   "execution_count": 18,
   "metadata": {},
   "outputs": [],
   "source": [
    "@app.callback(Output(\"Temperature_PIE\", \"figure\"),[Input(\"Time-Interval-Select-pie\", \"value\")])\n",
    "def TemperaturePieChart(year):\n",
    "    fig = TemperaturePIE(df_acc, year)\n",
    "    return fig"
   ]
  },
  {
   "cell_type": "markdown",
   "metadata": {},
   "source": [
    "#### Location callback:"
   ]
  },
  {
   "cell_type": "code",
   "execution_count": 19,
   "metadata": {},
   "outputs": [],
   "source": [
    "@app.callback(Output(\"Location_Graph_Scatter\", \"figure\"),[Input(\"Time-Interval-Select-pie\", \"value\")])\n",
    "def LocationScatter(year):\n",
    "    fig = LocationScatterPlot(df_acc, year, False)\n",
    "    return fig"
   ]
  },
  {
   "cell_type": "markdown",
   "metadata": {},
   "source": [
    "http://127.0.0.1:8050"
   ]
  }
 ],
 "metadata": {
  "kernelspec": {
   "display_name": "Python 3",
   "language": "python",
   "name": "python3"
  },
  "language_info": {
   "codemirror_mode": {
    "name": "ipython",
    "version": 3
   },
   "file_extension": ".py",
   "mimetype": "text/x-python",
   "name": "python",
   "nbconvert_exporter": "python",
   "pygments_lexer": "ipython3",
   "version": "3.12.3"
  }
 },
 "nbformat": 4,
 "nbformat_minor": 2
}
